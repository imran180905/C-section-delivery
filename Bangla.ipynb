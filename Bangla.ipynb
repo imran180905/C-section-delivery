{
 "cells": [
  {
   "cell_type": "code",
   "execution_count": 180,
   "id": "94a06799-6110-4086-9353-166b1e84b538",
   "metadata": {},
   "outputs": [],
   "source": [
    "import pandas as pd\n",
    "import numpy as np\n",
    "import matplotlib.pyplot as plt\n",
    "from sklearn.metrics import accuracy_score\n",
    "from sklearn import preprocessing\n",
    "from statistics import mean"
   ]
  },
  {
   "cell_type": "code",
   "execution_count": 181,
   "id": "aea2a904-398e-4eaf-bcef-c4ec7076ff5d",
   "metadata": {},
   "outputs": [],
   "source": [
    "%matplotlib inline"
   ]
  },
  {
   "cell_type": "code",
   "execution_count": 182,
   "id": "45200cca-de7a-4858-b32a-1cb1e27d52de",
   "metadata": {},
   "outputs": [],
   "source": [
    "df= pd.read_csv(\"Bangladesh_mean.csv\")"
   ]
  },
  {
   "cell_type": "code",
   "execution_count": 183,
   "id": "7cee435b-d64a-468c-9843-0118c33377f8",
   "metadata": {},
   "outputs": [
    {
     "data": {
      "text/html": [
       "<div>\n",
       "<style scoped>\n",
       "    .dataframe tbody tr th:only-of-type {\n",
       "        vertical-align: middle;\n",
       "    }\n",
       "\n",
       "    .dataframe tbody tr th {\n",
       "        vertical-align: top;\n",
       "    }\n",
       "\n",
       "    .dataframe thead th {\n",
       "        text-align: right;\n",
       "    }\n",
       "</style>\n",
       "<table border=\"1\" class=\"dataframe\">\n",
       "  <thead>\n",
       "    <tr style=\"text-align: right;\">\n",
       "      <th></th>\n",
       "      <th>Type of place of residence</th>\n",
       "      <th>Age of mother</th>\n",
       "      <th>Mother's BMI</th>\n",
       "      <th>Mother's educational level</th>\n",
       "      <th>Mother's Occupation</th>\n",
       "      <th>Number Of ANC Visits</th>\n",
       "      <th>Total Number Of Ever Born Child</th>\n",
       "      <th>Ever had a terminated pregnancy</th>\n",
       "      <th>Decision Making Power On Delivery Place</th>\n",
       "      <th>Waching TV</th>\n",
       "      <th>Husband's Education</th>\n",
       "      <th>Husband's Occupation's</th>\n",
       "      <th>Household Wealth Quintile</th>\n",
       "      <th>Source Of Drinking Water</th>\n",
       "      <th>Household Toilet Facility</th>\n",
       "      <th>Level data_Last birth a caesarean section</th>\n",
       "    </tr>\n",
       "  </thead>\n",
       "  <tbody>\n",
       "    <tr>\n",
       "      <th>0</th>\n",
       "      <td>2</td>\n",
       "      <td>1</td>\n",
       "      <td>2.0</td>\n",
       "      <td>2</td>\n",
       "      <td>0</td>\n",
       "      <td>1.40601</td>\n",
       "      <td>1</td>\n",
       "      <td>0</td>\n",
       "      <td>2.0</td>\n",
       "      <td>0</td>\n",
       "      <td>2.0</td>\n",
       "      <td>4.0</td>\n",
       "      <td>4</td>\n",
       "      <td>0</td>\n",
       "      <td>0</td>\n",
       "      <td>0.0</td>\n",
       "    </tr>\n",
       "    <tr>\n",
       "      <th>1</th>\n",
       "      <td>2</td>\n",
       "      <td>0</td>\n",
       "      <td>2.0</td>\n",
       "      <td>1</td>\n",
       "      <td>1</td>\n",
       "      <td>1.00000</td>\n",
       "      <td>0</td>\n",
       "      <td>0</td>\n",
       "      <td>1.0</td>\n",
       "      <td>0</td>\n",
       "      <td>1.0</td>\n",
       "      <td>4.0</td>\n",
       "      <td>0</td>\n",
       "      <td>1</td>\n",
       "      <td>0</td>\n",
       "      <td>0.0</td>\n",
       "    </tr>\n",
       "    <tr>\n",
       "      <th>2</th>\n",
       "      <td>2</td>\n",
       "      <td>0</td>\n",
       "      <td>1.0</td>\n",
       "      <td>1</td>\n",
       "      <td>1</td>\n",
       "      <td>1.40601</td>\n",
       "      <td>1</td>\n",
       "      <td>0</td>\n",
       "      <td>1.0</td>\n",
       "      <td>0</td>\n",
       "      <td>1.0</td>\n",
       "      <td>1.0</td>\n",
       "      <td>1</td>\n",
       "      <td>1</td>\n",
       "      <td>1</td>\n",
       "      <td>0.0</td>\n",
       "    </tr>\n",
       "    <tr>\n",
       "      <th>3</th>\n",
       "      <td>2</td>\n",
       "      <td>0</td>\n",
       "      <td>2.0</td>\n",
       "      <td>2</td>\n",
       "      <td>1</td>\n",
       "      <td>2.00000</td>\n",
       "      <td>0</td>\n",
       "      <td>0</td>\n",
       "      <td>1.0</td>\n",
       "      <td>0</td>\n",
       "      <td>1.0</td>\n",
       "      <td>4.0</td>\n",
       "      <td>0</td>\n",
       "      <td>1</td>\n",
       "      <td>0</td>\n",
       "      <td>0.0</td>\n",
       "    </tr>\n",
       "    <tr>\n",
       "      <th>4</th>\n",
       "      <td>2</td>\n",
       "      <td>0</td>\n",
       "      <td>2.0</td>\n",
       "      <td>3</td>\n",
       "      <td>0</td>\n",
       "      <td>1.00000</td>\n",
       "      <td>0</td>\n",
       "      <td>0</td>\n",
       "      <td>1.0</td>\n",
       "      <td>1</td>\n",
       "      <td>2.0</td>\n",
       "      <td>4.0</td>\n",
       "      <td>2</td>\n",
       "      <td>0</td>\n",
       "      <td>0</td>\n",
       "      <td>0.0</td>\n",
       "    </tr>\n",
       "    <tr>\n",
       "      <th>...</th>\n",
       "      <td>...</td>\n",
       "      <td>...</td>\n",
       "      <td>...</td>\n",
       "      <td>...</td>\n",
       "      <td>...</td>\n",
       "      <td>...</td>\n",
       "      <td>...</td>\n",
       "      <td>...</td>\n",
       "      <td>...</td>\n",
       "      <td>...</td>\n",
       "      <td>...</td>\n",
       "      <td>...</td>\n",
       "      <td>...</td>\n",
       "      <td>...</td>\n",
       "      <td>...</td>\n",
       "      <td>...</td>\n",
       "    </tr>\n",
       "    <tr>\n",
       "      <th>5399</th>\n",
       "      <td>2</td>\n",
       "      <td>0</td>\n",
       "      <td>1.0</td>\n",
       "      <td>3</td>\n",
       "      <td>1</td>\n",
       "      <td>1.00000</td>\n",
       "      <td>0</td>\n",
       "      <td>0</td>\n",
       "      <td>1.0</td>\n",
       "      <td>0</td>\n",
       "      <td>2.0</td>\n",
       "      <td>1.0</td>\n",
       "      <td>1</td>\n",
       "      <td>1</td>\n",
       "      <td>0</td>\n",
       "      <td>0.0</td>\n",
       "    </tr>\n",
       "    <tr>\n",
       "      <th>5400</th>\n",
       "      <td>1</td>\n",
       "      <td>1</td>\n",
       "      <td>2.0</td>\n",
       "      <td>1</td>\n",
       "      <td>1</td>\n",
       "      <td>1.00000</td>\n",
       "      <td>1</td>\n",
       "      <td>1</td>\n",
       "      <td>0.0</td>\n",
       "      <td>1</td>\n",
       "      <td>2.0</td>\n",
       "      <td>4.0</td>\n",
       "      <td>3</td>\n",
       "      <td>0</td>\n",
       "      <td>0</td>\n",
       "      <td>0.0</td>\n",
       "    </tr>\n",
       "    <tr>\n",
       "      <th>5401</th>\n",
       "      <td>1</td>\n",
       "      <td>1</td>\n",
       "      <td>2.0</td>\n",
       "      <td>3</td>\n",
       "      <td>0</td>\n",
       "      <td>2.00000</td>\n",
       "      <td>0</td>\n",
       "      <td>1</td>\n",
       "      <td>1.0</td>\n",
       "      <td>1</td>\n",
       "      <td>3.0</td>\n",
       "      <td>2.0</td>\n",
       "      <td>4</td>\n",
       "      <td>1</td>\n",
       "      <td>0</td>\n",
       "      <td>1.0</td>\n",
       "    </tr>\n",
       "    <tr>\n",
       "      <th>5402</th>\n",
       "      <td>1</td>\n",
       "      <td>0</td>\n",
       "      <td>2.0</td>\n",
       "      <td>2</td>\n",
       "      <td>0</td>\n",
       "      <td>2.00000</td>\n",
       "      <td>0</td>\n",
       "      <td>1</td>\n",
       "      <td>1.0</td>\n",
       "      <td>1</td>\n",
       "      <td>2.0</td>\n",
       "      <td>4.0</td>\n",
       "      <td>3</td>\n",
       "      <td>1</td>\n",
       "      <td>0</td>\n",
       "      <td>1.0</td>\n",
       "    </tr>\n",
       "    <tr>\n",
       "      <th>5403</th>\n",
       "      <td>1</td>\n",
       "      <td>1</td>\n",
       "      <td>2.0</td>\n",
       "      <td>2</td>\n",
       "      <td>0</td>\n",
       "      <td>2.00000</td>\n",
       "      <td>0</td>\n",
       "      <td>0</td>\n",
       "      <td>1.0</td>\n",
       "      <td>1</td>\n",
       "      <td>2.0</td>\n",
       "      <td>4.0</td>\n",
       "      <td>4</td>\n",
       "      <td>1</td>\n",
       "      <td>1</td>\n",
       "      <td>0.0</td>\n",
       "    </tr>\n",
       "  </tbody>\n",
       "</table>\n",
       "<p>5404 rows × 16 columns</p>\n",
       "</div>"
      ],
      "text/plain": [
       "      Type of place of residence  Age of mother  Mother's BMI  \\\n",
       "0                              2              1           2.0   \n",
       "1                              2              0           2.0   \n",
       "2                              2              0           1.0   \n",
       "3                              2              0           2.0   \n",
       "4                              2              0           2.0   \n",
       "...                          ...            ...           ...   \n",
       "5399                           2              0           1.0   \n",
       "5400                           1              1           2.0   \n",
       "5401                           1              1           2.0   \n",
       "5402                           1              0           2.0   \n",
       "5403                           1              1           2.0   \n",
       "\n",
       "      Mother's educational level  Mother's Occupation  Number Of ANC Visits  \\\n",
       "0                              2                    0               1.40601   \n",
       "1                              1                    1               1.00000   \n",
       "2                              1                    1               1.40601   \n",
       "3                              2                    1               2.00000   \n",
       "4                              3                    0               1.00000   \n",
       "...                          ...                  ...                   ...   \n",
       "5399                           3                    1               1.00000   \n",
       "5400                           1                    1               1.00000   \n",
       "5401                           3                    0               2.00000   \n",
       "5402                           2                    0               2.00000   \n",
       "5403                           2                    0               2.00000   \n",
       "\n",
       "      Total Number Of Ever Born Child  Ever had a terminated pregnancy  \\\n",
       "0                                   1                                0   \n",
       "1                                   0                                0   \n",
       "2                                   1                                0   \n",
       "3                                   0                                0   \n",
       "4                                   0                                0   \n",
       "...                               ...                              ...   \n",
       "5399                                0                                0   \n",
       "5400                                1                                1   \n",
       "5401                                0                                1   \n",
       "5402                                0                                1   \n",
       "5403                                0                                0   \n",
       "\n",
       "      Decision Making Power On Delivery Place  Waching TV  \\\n",
       "0                                         2.0           0   \n",
       "1                                         1.0           0   \n",
       "2                                         1.0           0   \n",
       "3                                         1.0           0   \n",
       "4                                         1.0           1   \n",
       "...                                       ...         ...   \n",
       "5399                                      1.0           0   \n",
       "5400                                      0.0           1   \n",
       "5401                                      1.0           1   \n",
       "5402                                      1.0           1   \n",
       "5403                                      1.0           1   \n",
       "\n",
       "      Husband's Education  Husband's Occupation's  Household Wealth Quintile  \\\n",
       "0                     2.0                     4.0                          4   \n",
       "1                     1.0                     4.0                          0   \n",
       "2                     1.0                     1.0                          1   \n",
       "3                     1.0                     4.0                          0   \n",
       "4                     2.0                     4.0                          2   \n",
       "...                   ...                     ...                        ...   \n",
       "5399                  2.0                     1.0                          1   \n",
       "5400                  2.0                     4.0                          3   \n",
       "5401                  3.0                     2.0                          4   \n",
       "5402                  2.0                     4.0                          3   \n",
       "5403                  2.0                     4.0                          4   \n",
       "\n",
       "      Source Of Drinking Water  Household Toilet Facility  \\\n",
       "0                            0                          0   \n",
       "1                            1                          0   \n",
       "2                            1                          1   \n",
       "3                            1                          0   \n",
       "4                            0                          0   \n",
       "...                        ...                        ...   \n",
       "5399                         1                          0   \n",
       "5400                         0                          0   \n",
       "5401                         1                          0   \n",
       "5402                         1                          0   \n",
       "5403                         1                          1   \n",
       "\n",
       "      Level data_Last birth a caesarean section  \n",
       "0                                           0.0  \n",
       "1                                           0.0  \n",
       "2                                           0.0  \n",
       "3                                           0.0  \n",
       "4                                           0.0  \n",
       "...                                         ...  \n",
       "5399                                        0.0  \n",
       "5400                                        0.0  \n",
       "5401                                        1.0  \n",
       "5402                                        1.0  \n",
       "5403                                        0.0  \n",
       "\n",
       "[5404 rows x 16 columns]"
      ]
     },
     "execution_count": 183,
     "metadata": {},
     "output_type": "execute_result"
    }
   ],
   "source": [
    "df"
   ]
  },
  {
   "cell_type": "code",
   "execution_count": 186,
   "id": "d63c6ae0-943c-4dfe-97aa-601563668027",
   "metadata": {},
   "outputs": [],
   "source": [
    "x=df.iloc[:,:-1].values"
   ]
  },
  {
   "cell_type": "code",
   "execution_count": 187,
   "id": "c78edaee-2c0a-44a4-8223-77ea145c4435",
   "metadata": {},
   "outputs": [],
   "source": [
    "scaler = preprocessing.MinMaxScaler()\n",
    "x_scaled = scaler.fit_transform(x)"
   ]
  },
  {
   "cell_type": "code",
   "execution_count": 188,
   "id": "35a111ca-5f6c-41f5-b707-1d043a1a284a",
   "metadata": {},
   "outputs": [],
   "source": [
    "y=df.iloc[:,15].values"
   ]
  },
  {
   "cell_type": "code",
   "execution_count": 189,
   "id": "4f7c30f3-fcd3-46af-afb8-366bfa17a71c",
   "metadata": {},
   "outputs": [],
   "source": [
    "#from sklearn.model_selection import train_test_split\n",
    "#x_train, x_test, y_train,y_test = train_test_split(x, y, test_size = 0.27, random_state = 0)"
   ]
  },
  {
   "cell_type": "code",
   "execution_count": 232,
   "id": "31f3c09a-2962-410b-9db4-4ab5601293be",
   "metadata": {},
   "outputs": [],
   "source": [
    "from sklearn.model_selection import StratifiedKFold\n",
    "kf=StratifiedKFold(n_splits=100,shuffle=True, random_state=1)"
   ]
  },
  {
   "cell_type": "code",
   "execution_count": 233,
   "id": "ad8ba0b0-711e-47b2-8fba-b808eda01fad",
   "metadata": {},
   "outputs": [],
   "source": [
    "for idx in kf.split( x,y):\n",
    "        train_idx, test_idx=idx[0], idx[1]\n",
    "        xtrain = x[train_idx]\n",
    "        ytrain = y[train_idx]\n",
    "        \n",
    "        xtest = x[test_idx]\n",
    "        ytest = y[test_idx]\n",
    "        \n",
    "        "
   ]
  },
  {
   "cell_type": "code",
   "execution_count": 234,
   "id": "2f867240-0402-4476-8b22-90dfe783f307",
   "metadata": {},
   "outputs": [],
   "source": [
    "#Fitting Random Forest Model for dataset\n"
   ]
  },
  {
   "cell_type": "code",
   "execution_count": 235,
   "id": "27a3273e-dc84-493f-bbc3-52344289dedf",
   "metadata": {},
   "outputs": [
    {
     "data": {
      "text/plain": [
       "RandomForestRegressor(n_estimators=300, random_state=0)"
      ]
     },
     "execution_count": 235,
     "metadata": {},
     "output_type": "execute_result"
    }
   ],
   "source": [
    "from sklearn.ensemble import RandomForestRegressor\n",
    "\n",
    "regressor=RandomForestRegressor(n_estimators=300,random_state=0)\n",
    "regressor.fit(xtrain,ytrain)"
   ]
  },
  {
   "cell_type": "code",
   "execution_count": 236,
   "id": "71084001-51bb-448c-ac1d-413aee18c798",
   "metadata": {},
   "outputs": [
    {
     "name": "stdout",
     "output_type": "stream",
     "text": [
      "Accuracy: 75.93%\n"
     ]
    }
   ],
   "source": [
    "y_pred=regressor.predict(xtest)\n",
    "predictions= [round(value) for value in y_pred]\n",
    "accu=accuracy_score(ytest,predictions)\n",
    "print(\"Accuracy: %.2f%%\" %(accu* 100.00))"
   ]
  },
  {
   "cell_type": "code",
   "execution_count": 178,
   "id": "f748b214-88d7-4af2-beae-3d39c37a8d4e",
   "metadata": {},
   "outputs": [
    {
     "data": {
      "text/plain": [
       "0.5940476190476189"
      ]
     },
     "execution_count": 178,
     "metadata": {},
     "output_type": "execute_result"
    }
   ],
   "source": [
    "y_pred[539]"
   ]
  },
  {
   "cell_type": "code",
   "execution_count": 167,
   "id": "fea884f7-0432-43ec-a8cc-51a3a02cf04d",
   "metadata": {},
   "outputs": [
    {
     "ename": "ValueError",
     "evalue": "The truth value of an array with more than one element is ambiguous. Use a.any() or a.all()",
     "output_type": "error",
     "traceback": [
      "\u001b[1;31m---------------------------------------------------------------------------\u001b[0m",
      "\u001b[1;31mValueError\u001b[0m                                Traceback (most recent call last)",
      "\u001b[1;32m<ipython-input-167-9fa4c80a2b67>\u001b[0m in \u001b[0;36m<module>\u001b[1;34m\u001b[0m\n\u001b[1;32m----> 1\u001b[1;33m \u001b[0mx_grid\u001b[0m\u001b[1;33m=\u001b[0m \u001b[0mnp\u001b[0m\u001b[1;33m.\u001b[0m\u001b[0marange\u001b[0m\u001b[1;33m(\u001b[0m\u001b[0mmin\u001b[0m\u001b[1;33m(\u001b[0m\u001b[0mx\u001b[0m\u001b[1;33m)\u001b[0m\u001b[1;33m,\u001b[0m\u001b[0mmax\u001b[0m\u001b[1;33m(\u001b[0m\u001b[0mx\u001b[0m\u001b[1;33m)\u001b[0m\u001b[1;33m,\u001b[0m\u001b[1;36m0.01\u001b[0m\u001b[1;33m)\u001b[0m\u001b[1;33m\u001b[0m\u001b[1;33m\u001b[0m\u001b[0m\n\u001b[0m\u001b[0;32m      2\u001b[0m \u001b[0mX_grid\u001b[0m \u001b[1;33m=\u001b[0m \u001b[0mX_grid\u001b[0m\u001b[1;33m.\u001b[0m\u001b[0mreshape\u001b[0m\u001b[1;33m(\u001b[0m\u001b[0mlen\u001b[0m\u001b[1;33m(\u001b[0m\u001b[0mX_grid\u001b[0m\u001b[1;33m)\u001b[0m\u001b[1;33m,\u001b[0m\u001b[1;36m1\u001b[0m\u001b[1;33m)\u001b[0m\u001b[1;33m\u001b[0m\u001b[1;33m\u001b[0m\u001b[0m\n\u001b[0;32m      3\u001b[0m \u001b[0mplt\u001b[0m\u001b[1;33m.\u001b[0m\u001b[0mscatter\u001b[0m\u001b[1;33m(\u001b[0m\u001b[0mx\u001b[0m\u001b[1;33m[\u001b[0m\u001b[1;33m:\u001b[0m\u001b[1;33m,\u001b[0m\u001b[1;36m0\u001b[0m\u001b[1;33m]\u001b[0m\u001b[1;33m,\u001b[0m\u001b[0my\u001b[0m\u001b[1;33m,\u001b[0m\u001b[0mcolor\u001b[0m\u001b[1;33m=\u001b[0m\u001b[1;34m'red'\u001b[0m\u001b[1;33m)\u001b[0m\u001b[1;33m\u001b[0m\u001b[1;33m\u001b[0m\u001b[0m\n\u001b[0;32m      4\u001b[0m \u001b[0mplt\u001b[0m\u001b[1;33m.\u001b[0m\u001b[0mplot\u001b[0m\u001b[1;33m(\u001b[0m\u001b[0mx\u001b[0m\u001b[1;33m,\u001b[0m \u001b[0mregressor\u001b[0m\u001b[1;33m.\u001b[0m\u001b[0mpredict\u001b[0m\u001b[1;33m(\u001b[0m\u001b[0mx\u001b[0m\u001b[1;33m)\u001b[0m\u001b[1;33m,\u001b[0m\u001b[0mcolor\u001b[0m\u001b[1;33m=\u001b[0m\u001b[1;34m'blue'\u001b[0m\u001b[1;33m)\u001b[0m\u001b[1;33m\u001b[0m\u001b[1;33m\u001b[0m\u001b[0m\n\u001b[0;32m      5\u001b[0m \u001b[0mplt\u001b[0m\u001b[1;33m.\u001b[0m\u001b[0mxlabel\u001b[0m\u001b[1;33m(\u001b[0m\u001b[1;34m'C-section factors'\u001b[0m\u001b[1;33m)\u001b[0m\u001b[1;33m\u001b[0m\u001b[1;33m\u001b[0m\u001b[0m\n",
      "\u001b[1;31mValueError\u001b[0m: The truth value of an array with more than one element is ambiguous. Use a.any() or a.all()"
     ]
    }
   ],
   "source": [
    "x_grid= np.arange(min(x),max(x),0.01)\n",
    "X_grid = X_grid.reshape(len(X_grid),1).a\n",
    "plt.scatter(x[:,0],y,color='red')\n",
    "plt.plot(x, regressor.predict(x),color='blue')\n",
    "plt.xlabel('C-section factors')\n",
    "plt.ylabel('Last birth a caesarean section ')    \n",
    "plt.show()         "
   ]
  },
  {
   "cell_type": "code",
   "execution_count": 87,
   "id": "2a231d75-e7d3-4943-9366-cf8b2124e95f",
   "metadata": {},
   "outputs": [
    {
     "data": {
      "text/plain": [
       "(5404, 15)"
      ]
     },
     "execution_count": 87,
     "metadata": {},
     "output_type": "execute_result"
    }
   ],
   "source": [
    "x.shape"
   ]
  },
  {
   "cell_type": "code",
   "execution_count": 88,
   "id": "891813fe-d98a-449e-a149-bee186a08799",
   "metadata": {},
   "outputs": [
    {
     "data": {
      "text/plain": [
       "(5404,)"
      ]
     },
     "execution_count": 88,
     "metadata": {},
     "output_type": "execute_result"
    }
   ],
   "source": [
    "y.shape"
   ]
  },
  {
   "cell_type": "code",
   "execution_count": null,
   "id": "fe2da020-934f-4674-b8ec-77d7a841e235",
   "metadata": {},
   "outputs": [],
   "source": []
  }
 ],
 "metadata": {
  "kernelspec": {
   "display_name": "Python 3",
   "language": "python",
   "name": "python3"
  },
  "language_info": {
   "codemirror_mode": {
    "name": "ipython",
    "version": 3
   },
   "file_extension": ".py",
   "mimetype": "text/x-python",
   "name": "python",
   "nbconvert_exporter": "python",
   "pygments_lexer": "ipython3",
   "version": "3.7.10"
  }
 },
 "nbformat": 4,
 "nbformat_minor": 5
}
